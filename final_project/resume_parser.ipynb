{
 "cells": [
  {
   "cell_type": "code",
   "execution_count": 1,
   "id": "5bab5a42",
   "metadata": {},
   "outputs": [],
   "source": [
    "# Import modules and/or tools\n",
    "\n",
    "import nltk\n",
    "'''\n",
    "nltk.download('punkt')\n",
    "nltk.download('averaged_perceptron_tagger')\n",
    "nltk.download('maxent_ne_chunker')\n",
    "nltk.download('words')\n",
    "'''\n",
    "from nltk import ne_chunk, pos_tag, word_tokenize\n",
    "from nltk.tree import Tree\n",
    "from pdfminer.high_level import extract_text\n",
    "import pandas as pd\n",
    "import matplotlib.pyplot as plt\n",
    "import numpy as np\n",
    "from sklearn.cluster import KMeans\n"
   ]
  },
  {
   "cell_type": "code",
   "execution_count": 2,
   "id": "1c6ccdce",
   "metadata": {},
   "outputs": [],
   "source": [
    "# Function that converts information from pdf into string\n",
    "def extract_text_from_pdf(pdf_path):\n",
    "    return extract_text(pdf_path)"
   ]
  },
  {
   "cell_type": "code",
   "execution_count": 11,
   "id": "6e8c0165",
   "metadata": {},
   "outputs": [],
   "source": [
    "data = extract_text_from_pdf(\"sample_resume.pdf\")\n",
    "\n"
   ]
  },
  {
   "cell_type": "code",
   "execution_count": 12,
   "id": "a8676d32",
   "metadata": {},
   "outputs": [
    {
     "data": {
      "text/plain": [
       "\"PROGRAM MANAGER\\nProfessional Summary\\nHighly-motivated community service professional skilled at networking, media outreach and relationship development. Flexible and versatile team\\nplayer who maintains a sense of humor under pressure.\\nCore Qualifications\\n\\nCitizen engagement\\nEmployee relations\\nMedia relations\\nInter-governmental and legislative affairs\\nSocial media\\nEvent planning and logistics\\nPublic speaking\\nCopywriting and copyediting\\nMicrosoft Word and Excel expertise\\nStrong communication skills\\n\\nExperience\\n10/2015 to 08/2016\\nProgram Manager Company Name ï¼\\u200b City , State\\nContributed to relevant blogs, conferences and events both off-line and online to increase brand awareness.\\nManaged the complete redesign and launch of the company's website in [Number] months.\\nCreated an official company page on Facebook to facilitate interaction with customers.\\nManaged all social media programs, including Internet forums, blogs, social networking applications and message boards.\\nPresented on current promotions to the public at events and tradeshows.\\nWrote newsletter marketing copy and presentation materials for special projects.\\nEstablished effective working relationships with clients, government officials and media representatives.\\nDeveloped and implemented communication strategies and information programs.\\nGathered and analyzed data on community needs and interests.\\nDeveloped and published a monthly citizen newsletter.\\nOrganized public appearances, lectures, contests and exhibits to increase product awareness.\\nDesigned web and other content, including monthly newsletters and promotional calendars.\\nManaged the editorial content, design and distribution of the external company newsletter.\\nConferred with production, graphic design and web-design personnel to coordinate production of corporate communications materials.\\nDeveloped corporate communications strategies and programs, including project timelines.\\nCoached less experienced public relations staff members on corporate communications practices.\\nProofread and reviewed all print and electronic content for correct grammar and adherence to house style.\\nRevised campaigns in response to feedback from the creative director, account team and clients.\\nReviewed and edited colleagues' written work for grammar, tone, voice and creative quality.\\nImplemented SEO strategy, resulting in [Number] % increase to website hits.\\nUsed software to manage efficient delivery and track content drafts.\\nCommunicated with designers, graphic producers, video editors and videographers to create cohesive company voice.\\nResearched industrial and technical information to quickly come up to speed with unfamiliar industries.\\nMaintained awareness of digital trends and new emerging technologies and platforms.\\n08/2011 to Current\\nOffice of State Representative Intern District Director City , State\\n\\nRecruited, trained and supervised 8-12 new staff members, interns and volunteers each year.\\nReviewed staff work and gave comprehensive and constructive feedback.\\nDeveloped a 28-page training manual for new interns and volunteers.\\nDeveloped training program for specific, assigned job tasks, including database management and constituent casework.\\nDrafted meeting agendas, supplied advance materials and executed follow-up for meetings and team conferences.\\nPlanned and publicized events, including securing more than $150,000 in sponsorships.\\nEdited and distributed press releases and pitches to local and national media outlets, securing positive coverage in multiple publications.\\nAttended community meetings and forums to answer questions, address complaints and explain procedures.\\nCollaborated with community members to educate the public regarding issues such as constitutional amendments and newly enacted\\nlegislation.\\nReceived and screened a high volume of internal and external communications, including email and mail.\\nSimplified topics such as healthcare, energy, government and technology through clear, concise and compelling writing.\\nWrote newsletter copy and presentation materials for special projects.\\nCreated and maintained spreadsheets using advanced Excel functions and calculations to develop reports and lists.\\n\\n01/2012 to 05/2012\\nIntern Company Name ï¼\\u200b City , State\\n\\nIdentified customer needs through market research and analysis.\\n\\n\\x0cTracked communication regarding clients using print and electronic media.\\n\\nEducation\\nBachelorof Science : Public Relations University of Texas at Austin Public Relations\\nBachelor of Journalism : Broadcast University of Texas ï¼\\u200b City Broadcast\\nSkills\\nExcellent interpersonal skills, Strong communication skills, concise, conferences, copyediting, Copywriting, clients, database management, email,\\nEmployee relations, Event planning, government, logistics, market research and analysis, materials, Media relations, meetings, Excel, mail,\\nMicrosoft Word, newsletter, page, press releases, problem solver, Public speaking, publications, Fast learner, Self-starter, spreadsheets\\n\\n\\x0c\""
      ]
     },
     "execution_count": 12,
     "metadata": {},
     "output_type": "execute_result"
    }
   ],
   "source": [
    "data"
   ]
  },
  {
   "cell_type": "code",
   "execution_count": 7,
   "id": "e8f20dc3",
   "metadata": {},
   "outputs": [],
   "source": [
    "#SOURCE: The following code is from Unbiased-coder.com: https://unbiased-coder.com/extract-names-python-nltk/\n",
    "\n",
    "class resume_parser:\n",
    "\n",
    "    \n",
    "    def extract_text_from_pdf(self,pdf_path):\n",
    "        return extract_text(pdf_path)\n",
    "    \n",
    "    def __init__(self,pdf_path):\n",
    "        data = extract_text_from_pdf(pdf_path)\n",
    "        names = \n",
    "    \n",
    "    def get_names(self):\n",
    "        nltk_results = ne_chunk(pos_tag(word_tokenize(data))) # separates the text into several tokens      \n",
    "        for nltk_result in nltk_results: # iterates through tokens in the text\n",
    "            if type(nltk_result) == Tree: #This checks the tag of the token, or what particular type of name the name corresponds to.\n",
    "                name = ''\n",
    "                for nltk_result_leaf in nltk_result.leaves():\n",
    "                    name += nltk_result_leaf[0] + ''\n",
    "                print(\"Type: \", nltk_result.label(), 'Name: ', name)\n",
    "\n",
    "        \n",
    "    "
   ]
  },
  {
   "cell_type": "code",
   "execution_count": 8,
   "id": "ed62a727",
   "metadata": {},
   "outputs": [],
   "source": [
    "model = resume_parser('sample_resume.pdf')"
   ]
  },
  {
   "cell_type": "code",
   "execution_count": 10,
   "id": "c890e128",
   "metadata": {},
   "outputs": [
    {
     "data": {
      "text/plain": [
       "<__main__.resume_parser at 0x7fefec1f5a60>"
      ]
     },
     "execution_count": 10,
     "metadata": {},
     "output_type": "execute_result"
    }
   ],
   "source": [
    "model"
   ]
  },
  {
   "cell_type": "code",
   "execution_count": 9,
   "id": "37c00652",
   "metadata": {},
   "outputs": [
    {
     "name": "stdout",
     "output_type": "stream",
     "text": [
      "Type:  ORGANIZATION Name:  PROGRAM\n",
      "Type:  PERSON Name:  CoreQualificationsCitizen\n",
      "Type:  GPE Name:  Media\n",
      "Type:  ORGANIZATION Name:  Social\n",
      "Type:  PERSON Name:  MicrosoftWord\n",
      "Type:  GPE Name:  Excel\n",
      "Type:  GPE Name:  Strong\n",
      "Type:  PERSON Name:  State\n",
      "Type:  GPE Name:  Facebook\n",
      "Type:  PERSON Name:  Developed\n",
      "Type:  PERSON Name:  Gathered\n",
      "Type:  PERSON Name:  Developed\n",
      "Type:  PERSON Name:  Developed\n",
      "Type:  PERSON Name:  Coached\n",
      "Type:  PERSON Name:  Reviewed\n",
      "Type:  ORGANIZATION Name:  SEO\n",
      "Type:  PERSON Name:  CurrentOffice\n",
      "Type:  ORGANIZATION Name:  State\n",
      "Type:  ORGANIZATION Name:  InternDistrict\n",
      "Type:  ORGANIZATION Name:  StateRecruited\n",
      "Type:  PERSON Name:  Reviewed\n",
      "Type:  PERSON Name:  Wrote\n",
      "Type:  ORGANIZATION Name:  InternCompanyName\n",
      "Type:  ORGANIZATION Name:  StateIdentified\n",
      "Type:  PERSON Name:  EducationBachelorofScience\n",
      "Type:  PERSON Name:  PublicRelationsUniversity\n",
      "Type:  GPE Name:  Texas\n",
      "Type:  ORGANIZATION Name:  AustinPublicRelationsBachelor\n",
      "Type:  GPE Name:  Journalism\n",
      "Type:  PERSON Name:  BroadcastUniversity\n",
      "Type:  GPE Name:  Texas\n",
      "Type:  PERSON Name:  BroadcastSkills\n",
      "Type:  GPE Name:  Strong\n",
      "Type:  GPE Name:  Copywriting\n",
      "Type:  GPE Name:  Employee\n",
      "Type:  GPE Name:  Media\n",
      "Type:  PERSON Name:  Excel\n",
      "Type:  PERSON Name:  MicrosoftWord\n",
      "Type:  GPE Name:  Public\n",
      "Type:  GPE Name:  Fast\n"
     ]
    }
   ],
   "source": [
    "model.get_names()\n",
    "\n"
   ]
  },
  {
   "cell_type": "code",
   "execution_count": null,
   "id": "49d134b8",
   "metadata": {},
   "outputs": [],
   "source": []
  }
 ],
 "metadata": {
  "kernelspec": {
   "display_name": "Python 3",
   "language": "python",
   "name": "python3"
  },
  "language_info": {
   "codemirror_mode": {
    "name": "ipython",
    "version": 3
   },
   "file_extension": ".py",
   "mimetype": "text/x-python",
   "name": "python",
   "nbconvert_exporter": "python",
   "pygments_lexer": "ipython3",
   "version": "3.8.8"
  }
 },
 "nbformat": 4,
 "nbformat_minor": 5
}
