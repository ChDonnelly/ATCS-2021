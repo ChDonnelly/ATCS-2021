{
 "cells": [
  {
   "cell_type": "code",
   "execution_count": 45,
   "id": "5bab5a42",
   "metadata": {},
   "outputs": [],
   "source": [
    "# Import modules and/or tools\n",
    "\n",
    "import nltk\n",
    "'''\n",
    "nltk.download('punkt')\n",
    "nltk.download('averaged_perceptron_tagger')\n",
    "nltk.download('maxent_ne_chunker')\n",
    "nltk.download('words')\n",
    "'''\n",
    "from nltk import ne_chunk, pos_tag, word_tokenize\n",
    "from nltk.tree import Tree\n",
    "from pdfminer.high_level import extract_text\n",
    "import pandas as pd\n",
    "import matplotlib.pyplot as plt\n",
    "import numpy as np\n",
    "from sklearn.cluster import KMeans\n"
   ]
  },
  {
   "cell_type": "code",
   "execution_count": 46,
   "id": "1c6ccdce",
   "metadata": {},
   "outputs": [],
   "source": [
    "# Function that converts information from pdf into string\n",
    "def extract_text_from_pdf(pdf_path):\n",
    "    return extract_text(pdf_path)"
   ]
  },
  {
   "cell_type": "code",
   "execution_count": 57,
   "id": "6e8c0165",
   "metadata": {},
   "outputs": [],
   "source": [
    "data = extract_text_from_pdf(\"sample_resume.pdf\")\n",
    "\n"
   ]
  },
  {
   "cell_type": "code",
   "execution_count": 76,
   "id": "e8f20dc3",
   "metadata": {},
   "outputs": [],
   "source": [
    "#SOURCE: The following code is from Unbiased-coder.com: https://unbiased-coder.com/extract-names-python-nltk/\n",
    "\n",
    "class resume_parser:\n",
    "    \n",
    "    def extract_text_from_pdf(self,pdf_path):\n",
    "        return extract_text(pdf_path)\n",
    "    \n",
    "    def __init__(self,pdf_path):\n",
    "        data = extract_text_from_pdf(pdf_path)\n",
    "    \n",
    "    def get_names(self):\n",
    "        nltk_results = ne_chunk(pos_tag(word_tokenize(data))) # separates the text into several tokens      \n",
    "        for nltk_result in nltk_results: # iterates through tokens in the text\n",
    "            if type(nltk_result) == Tree: #This checks the tag of the token, or what particular type of name the name corresponds to.\n",
    "                name = ''\n",
    "                for nltk_result_leaf in nltk_result.leaves():\n",
    "                    name += nltk_result_leaf[0] + ''\n",
    "                print(\"Type: \", nltk_result.label(), 'Name: ', name)\n",
    "\n",
    "        \n",
    "    "
   ]
  },
  {
   "cell_type": "code",
   "execution_count": 77,
   "id": "ed62a727",
   "metadata": {},
   "outputs": [],
   "source": [
    "model = resume_parser('sample_resume.pdf')"
   ]
  },
  {
   "cell_type": "code",
   "execution_count": 78,
   "id": "37c00652",
   "metadata": {},
   "outputs": [
    {
     "data": {
      "text/plain": [
       "<bound method resume_parser.get_names of <__main__.resume_parser object at 0x7fd5022b0e80>>"
      ]
     },
     "execution_count": 78,
     "metadata": {},
     "output_type": "execute_result"
    }
   ],
   "source": [
    "model.get_names()"
   ]
  },
  {
   "cell_type": "code",
   "execution_count": null,
   "id": "49d134b8",
   "metadata": {},
   "outputs": [],
   "source": []
  }
 ],
 "metadata": {
  "kernelspec": {
   "display_name": "Python 3",
   "language": "python",
   "name": "python3"
  },
  "language_info": {
   "codemirror_mode": {
    "name": "ipython",
    "version": 3
   },
   "file_extension": ".py",
   "mimetype": "text/x-python",
   "name": "python",
   "nbconvert_exporter": "python",
   "pygments_lexer": "ipython3",
   "version": "3.8.8"
  }
 },
 "nbformat": 4,
 "nbformat_minor": 5
}
